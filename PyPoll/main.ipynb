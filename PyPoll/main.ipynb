{
 "cells": [
  {
   "cell_type": "code",
   "execution_count": 1,
   "metadata": {},
   "outputs": [],
   "source": [
    "# HW instructions:\n",
    "# https://github.com/the-Coding-Boot-Camp-at-UT/UTAMCB201904DATA3/tree/master/03-Python/Homework/Instructions"
   ]
  },
  {
   "cell_type": "markdown",
   "metadata": {},
   "source": [
    "In this challenge, you are tasked with helping a small, rural town modernize its vote-counting process. (Up until now, Uncle Cleetus had been trustfully tallying them one-by-one, but unfortunately, his concentration isn't what it used to be.)\n",
    "\n",
    "You will be given a set of poll data called election_data.csv. The dataset is composed of three columns: Voter ID, County, and Candidate. Your task is to create a Python script that analyzes the votes and calculates each of the following:\n",
    "\n",
    "The total number of votes cast\n",
    "\n",
    "A complete list of candidates who received votes\n",
    "\n",
    "The percentage of votes each candidate won\n",
    "\n",
    "The total number of votes each candidate won\n",
    "\n",
    "The winner of the election based on popular vote.\n",
    "\n",
    "As an example, your analysis should look similar to the one below:\n",
    "\n",
    "Election Results\n",
    "-------------------------\n",
    "Total Votes: 3521001\n",
    "-------------------------\n",
    "Khan: 63.000% (2218231)\n",
    "Correy: 20.000% (704200)\n",
    "Li: 14.000% (492940)\n",
    "O'Tooley: 3.000% (105630)\n",
    "-------------------------\n",
    "Winner: Khan\n",
    "-------------------------\n",
    "In addition, your final script should both print the analysis to the terminal and export a text file with the results."
   ]
  },
  {
   "cell_type": "code",
   "execution_count": 2,
   "metadata": {},
   "outputs": [],
   "source": [
    "import pandas as pd\n",
    "import numpy as np\n",
    "import csv"
   ]
  },
  {
   "cell_type": "code",
   "execution_count": 3,
   "metadata": {},
   "outputs": [
    {
     "data": {
      "text/html": [
       "<div>\n",
       "<style scoped>\n",
       "    .dataframe tbody tr th:only-of-type {\n",
       "        vertical-align: middle;\n",
       "    }\n",
       "\n",
       "    .dataframe tbody tr th {\n",
       "        vertical-align: top;\n",
       "    }\n",
       "\n",
       "    .dataframe thead th {\n",
       "        text-align: right;\n",
       "    }\n",
       "</style>\n",
       "<table border=\"1\" class=\"dataframe\">\n",
       "  <thead>\n",
       "    <tr style=\"text-align: right;\">\n",
       "      <th></th>\n",
       "      <th>Voter ID</th>\n",
       "      <th>County</th>\n",
       "      <th>Candidate</th>\n",
       "    </tr>\n",
       "  </thead>\n",
       "  <tbody>\n",
       "    <tr>\n",
       "      <th>0</th>\n",
       "      <td>12864552</td>\n",
       "      <td>Marsh</td>\n",
       "      <td>Khan</td>\n",
       "    </tr>\n",
       "    <tr>\n",
       "      <th>1</th>\n",
       "      <td>17444633</td>\n",
       "      <td>Marsh</td>\n",
       "      <td>Correy</td>\n",
       "    </tr>\n",
       "    <tr>\n",
       "      <th>2</th>\n",
       "      <td>19330107</td>\n",
       "      <td>Marsh</td>\n",
       "      <td>Khan</td>\n",
       "    </tr>\n",
       "    <tr>\n",
       "      <th>3</th>\n",
       "      <td>19865775</td>\n",
       "      <td>Queen</td>\n",
       "      <td>Khan</td>\n",
       "    </tr>\n",
       "    <tr>\n",
       "      <th>4</th>\n",
       "      <td>11927875</td>\n",
       "      <td>Marsh</td>\n",
       "      <td>Khan</td>\n",
       "    </tr>\n",
       "    <tr>\n",
       "      <th>5</th>\n",
       "      <td>19014606</td>\n",
       "      <td>Marsh</td>\n",
       "      <td>Li</td>\n",
       "    </tr>\n",
       "    <tr>\n",
       "      <th>6</th>\n",
       "      <td>17775191</td>\n",
       "      <td>Queen</td>\n",
       "      <td>Correy</td>\n",
       "    </tr>\n",
       "    <tr>\n",
       "      <th>7</th>\n",
       "      <td>14003692</td>\n",
       "      <td>Marsh</td>\n",
       "      <td>Khan</td>\n",
       "    </tr>\n",
       "    <tr>\n",
       "      <th>8</th>\n",
       "      <td>14255761</td>\n",
       "      <td>Marsh</td>\n",
       "      <td>Khan</td>\n",
       "    </tr>\n",
       "    <tr>\n",
       "      <th>9</th>\n",
       "      <td>13870173</td>\n",
       "      <td>Marsh</td>\n",
       "      <td>Correy</td>\n",
       "    </tr>\n",
       "  </tbody>\n",
       "</table>\n",
       "</div>"
      ],
      "text/plain": [
       "   Voter ID County Candidate\n",
       "0  12864552  Marsh      Khan\n",
       "1  17444633  Marsh    Correy\n",
       "2  19330107  Marsh      Khan\n",
       "3  19865775  Queen      Khan\n",
       "4  11927875  Marsh      Khan\n",
       "5  19014606  Marsh        Li\n",
       "6  17775191  Queen    Correy\n",
       "7  14003692  Marsh      Khan\n",
       "8  14255761  Marsh      Khan\n",
       "9  13870173  Marsh    Correy"
      ]
     },
     "execution_count": 3,
     "metadata": {},
     "output_type": "execute_result"
    }
   ],
   "source": [
    "url = \"https://raw.githubusercontent.com/marazap90/python-challenge/master/PyPoll/election_data.csv\"\n",
    "df = pd.read_csv(url)\n",
    "df.head(10)"
   ]
  },
  {
   "cell_type": "code",
   "execution_count": 4,
   "metadata": {},
   "outputs": [
    {
     "data": {
      "text/plain": [
       "3521001"
      ]
     },
     "execution_count": 4,
     "metadata": {},
     "output_type": "execute_result"
    }
   ],
   "source": [
    "# The total number of votes cast\n",
    "\n",
    "total = len(df)\n",
    "total"
   ]
  },
  {
   "cell_type": "code",
   "execution_count": 5,
   "metadata": {},
   "outputs": [
    {
     "data": {
      "text/plain": [
       "array(['Khan', 'Correy', 'Li', \"O'Tooley\"], dtype=object)"
      ]
     },
     "execution_count": 5,
     "metadata": {},
     "output_type": "execute_result"
    }
   ],
   "source": [
    "# A complete list of candidates who received votes\n",
    "\n",
    "voted = df[\"Candidate\"].unique()\n",
    "voted"
   ]
  },
  {
   "cell_type": "code",
   "execution_count": 6,
   "metadata": {},
   "outputs": [
    {
     "data": {
      "text/plain": [
       "Khan        63.0\n",
       "Correy      20.0\n",
       "Li          14.0\n",
       "O'Tooley     3.0\n",
       "Name: Candidate, dtype: float64"
      ]
     },
     "execution_count": 6,
     "metadata": {},
     "output_type": "execute_result"
    }
   ],
   "source": [
    "# The percentage of votes each candidate won\n",
    "\n",
    "pct = round(100*df.Candidate.value_counts()/len(df), 1)\n",
    "pct"
   ]
  },
  {
   "cell_type": "code",
   "execution_count": 7,
   "metadata": {},
   "outputs": [
    {
     "data": {
      "text/plain": [
       "Khan        2218231\n",
       "Correy       704200\n",
       "Li           492940\n",
       "O'Tooley     105630\n",
       "Name: Candidate, dtype: int64"
      ]
     },
     "execution_count": 7,
     "metadata": {},
     "output_type": "execute_result"
    }
   ],
   "source": [
    "# The total number of votes each candidate won\n",
    "\n",
    "votes = df.Candidate.value_counts()\n",
    "votes"
   ]
  },
  {
   "cell_type": "code",
   "execution_count": 8,
   "metadata": {},
   "outputs": [
    {
     "data": {
      "text/plain": [
       "'Khan'"
      ]
     },
     "execution_count": 8,
     "metadata": {},
     "output_type": "execute_result"
    }
   ],
   "source": [
    "# The winner of the election based on popular vote.\n",
    "\n",
    "winner = df['Candidate'].value_counts().idxmax()\n",
    "winner"
   ]
  },
  {
   "cell_type": "code",
   "execution_count": 9,
   "metadata": {},
   "outputs": [
    {
     "name": "stdout",
     "output_type": "stream",
     "text": [
      "ELECTION RESULTS\n",
      "----------------\n",
      "Total Votes: 3521001\n",
      "----------------\n",
      "Khan:       63.0%    #2218231\n",
      "Correy:     20.0%    #704200\n",
      "Li:         14.0%    #492940\n",
      "O'Tooley:    3.0%    #105630\n",
      "----------------\n",
      "Winner: Khan\n",
      "----------------\n"
     ]
    }
   ],
   "source": [
    "#print summary\n",
    "\n",
    "print(\"ELECTION RESULTS\")\n",
    "print(\"----------------\")\n",
    "\n",
    "print(\"Total Votes: \" + str(total))\n",
    "print(\"----------------\")\n",
    "\n",
    "print(list(pct.index.values)[0] + \":       \" + str(pct[0]) + \"%    #\" + str(votes[0]))\n",
    "print(list(pct.index.values)[1] + \":     \" + str(pct[1]) + \"%    #\" + str(votes[1]))\n",
    "print(list(pct.index.values)[2] + \":         \" + str(pct[2]) + \"%    #\" + str(votes[2]))\n",
    "print(list(pct.index.values)[3] + \":    \" + str(pct[3]) + \"%    #\" + str(votes[3]))\n",
    "print(\"----------------\")\n",
    "\n",
    "print(\"Winner: \" + winner)\n",
    "print(\"----------------\")"
   ]
  },
  {
   "cell_type": "code",
   "execution_count": 10,
   "metadata": {},
   "outputs": [],
   "source": [
    "#write summary into the text file\n",
    "\n",
    "f = open(\"output.txt\", \"a\")\n",
    "\n",
    "print(\"ELECTION RESULTS\", file=f)\n",
    "print(\"----------------\", file=f)\n",
    "\n",
    "print(\"Total Votes: \" + str(total), file=f)\n",
    "print(\"----------------\", file=f)\n",
    "\n",
    "print(list(pct.index.values)[0] + \":       \" + str(pct[0]) + \"%    #\" + str(votes[0]), file=f)\n",
    "print(list(pct.index.values)[1] + \":     \" + str(pct[1]) + \"%    #\" + str(votes[1]), file=f)\n",
    "print(list(pct.index.values)[2] + \":         \" + str(pct[2]) + \"%    #\" + str(votes[2]), file=f)\n",
    "print(list(pct.index.values)[3] + \":    \" + str(pct[3]) + \"%    #\" + str(votes[3]), file=f)\n",
    "print(\"----------------\", file=f)\n",
    "\n",
    "print(\"Winner: \" + winner, file=f)\n",
    "print(\"----------------\", file=f)\n",
    "\n",
    "\n",
    "f.close()\n"
   ]
  }
 ],
 "metadata": {
  "kernelspec": {
   "display_name": "Python 3",
   "language": "python",
   "name": "python3"
  },
  "language_info": {
   "codemirror_mode": {
    "name": "ipython",
    "version": 3
   },
   "file_extension": ".py",
   "mimetype": "text/x-python",
   "name": "python",
   "nbconvert_exporter": "python",
   "pygments_lexer": "ipython3",
   "version": "3.6.5"
  }
 },
 "nbformat": 4,
 "nbformat_minor": 2
}
